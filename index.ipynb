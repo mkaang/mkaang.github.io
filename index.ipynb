{
 "cells": [
  {
   "cell_type": "markdown",
   "metadata": {},
   "source": [
    "### Here is my personal blog page.\n",
    "Please check the below projects.\n",
    "- [Tweets augmentation by using BERT](projects/turkish_tweet_generator.html)"
   ]
  }
 ],
 "metadata": {
  "language_info": {
   "name": "python"
  },
  "orig_nbformat": 4
 },
 "nbformat": 4,
 "nbformat_minor": 2
}

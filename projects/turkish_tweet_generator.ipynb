{
  "cells": [
    {
      "cell_type": "markdown",
      "metadata": {
        "id": "GLHBjiOG8hYf"
      },
      "source": [
        "### Augment Turkish Tweets with MBERT"
      ]
    },
    {
      "cell_type": "code",
      "execution_count": null,
      "metadata": {
        "id": "2uRtM9097E0n"
      },
      "outputs": [],
      "source": [
        "from transformers import pipeline\n",
        "unmasker = pipeline('fill-mask', model='google/mt5-large')"
      ]
    },
    {
      "cell_type": "code",
      "execution_count": null,
      "metadata": {
        "id": "YbXNck4t8HPp"
      },
      "outputs": [],
      "source": [
        "# https://twitter.com/ozgunemrek/status/1490569898162065409\n",
        "text = \"Yeni bulgular, doğal seleksiyon fikrinin Darwin'den önce Patrick Matthew tarafından ortaya atıldığına ve Darwin'in alıp geliştirdiği bu fikrin ilk sahibini görmezden geldiğine işaret ediyormuş.\""
      ]
    },
    {
      "cell_type": "code",
      "execution_count": null,
      "metadata": {},
      "outputs": [],
      "source": [
        "unmasker(\"Yeni bulgular, doğal seleksiyon fikrinin Darwin'den önce Patrick Matthew [MASK] ortaya atıldığına ve Darwin'in alıp geliştirdiği bu [MASK] ilk sahibini görmezden geldiğine işaret ediyormuş.\")"
      ]
    },
    {
      "cell_type": "code",
      "execution_count": null,
      "metadata": {
        "id": "78ToyfpU8Lqf"
      },
      "outputs": [],
      "source": [
        "import random\n",
        "\n",
        "new_tokens_list = list()\n",
        "\n",
        "for token in text.split():\n",
        "  if random.choices([0,1], weights=[0.8,0.2])[0]:\n",
        "    new_tokens_list.append(\"[MASK]\")\n",
        "  else:\n",
        "    new_tokens_list.append(token)\n",
        "\n",
        "new_text = \" \".join(new_tokens_list)"
      ]
    },
    {
      "cell_type": "code",
      "execution_count": null,
      "metadata": {
        "id": "_w-HSNdgNLyH"
      },
      "outputs": [],
      "source": [
        "token_list = text.split()\n",
        "\n",
        "for idx, token in enumerate(token_list):\n",
        "  if random.choices([0,1], weights=[0.6,0.4])[0]:\n",
        "\n",
        "    token_list[idx] = \"[MASK]\"\n",
        "\n",
        "    masked_text = \" \".join(token_list)\n",
        "    output = unmasker(masked_text, top_k=1)\n",
        "    unmasked_text = output[0][\"sequence\"]\n",
        "\n",
        "    print(f\"{text}\\n{masked_text}\\n{unmasked_text}\\n\")\n",
        "\n",
        "    token_list = unmasked_text.split()\n",
        "\n",
        "new_text = \" \".join(token_list)"
      ]
    },
    {
      "cell_type": "code",
      "execution_count": null,
      "metadata": {
        "colab": {
          "base_uri": "https://localhost:8080/"
        },
        "id": "mZm1gg9OOUVN",
        "outputId": "9d9c5c96-faf9-4527-fb00-5ab0d5e05f4d"
      },
      "outputs": [
        {
          "name": "stdout",
          "output_type": "stream",
          "text": [
            "Original text:\n",
            "\n",
            "\tYeni bulgular, doğal seleksiyon fikrinin Darwin'den önce Patrick Matthew tarafından ortaya atıldığına ve Darwin'in alıp geliştirdiği bu fikrin ilk sahibini görmezden geldiğine işaret ediyormuş.\n",
            "\n",
            "New text:\n",
            "\n",
            "\tBu bulgular, bir seleksiyon olarak Darwin'den sonra Patrick Darwin tarafından ortaya çıkan Charles Darwin tarafından, bu fikrin ilk sahibini görmezden olduğunu kabul ediyormuş.\n",
            "\n"
          ]
        }
      ],
      "source": [
        "print(f\"Original text:\\n\\n\\t{text}\\n\")\n",
        "print(f\"New text:\\n\\n\\t{new_text}\\n\")"
      ]
    }
  ],
  "metadata": {
    "colab": {
      "collapsed_sections": [],
      "name": "turkish-tweet-generator.ipynb",
      "provenance": []
    },
    "kernelspec": {
      "display_name": "Python 3",
      "name": "python3"
    },
    "language_info": {
      "name": "python"
    }
  },
  "nbformat": 4,
  "nbformat_minor": 0
}
